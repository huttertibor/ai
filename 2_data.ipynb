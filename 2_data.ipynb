{
  "cells": [
    {
      "cell_type": "markdown",
      "metadata": {
        "id": "view-in-github",
        "colab_type": "text"
      },
      "source": [
        "<a href=\"https://colab.research.google.com/github/huttertibor/ai/blob/main/2_data.ipynb\" target=\"_parent\"><img src=\"https://colab.research.google.com/assets/colab-badge.svg\" alt=\"Open In Colab\"/></a>"
      ]
    },
    {
      "cell_type": "markdown",
      "metadata": {
        "id": "ckdqYhpl4QHf"
      },
      "source": [
        "# Data Exploration with Pandas"
      ]
    },
    {
      "cell_type": "code",
      "execution_count": null,
      "metadata": {
        "id": "ERKs7yy74QHh"
      },
      "outputs": [],
      "source": [
        "%matplotlib inline\n",
        "import matplotlib.pyplot as plt\n",
        "import pandas as pd\n",
        "import numpy as np"
      ]
    },
    {
      "cell_type": "code",
      "execution_count": null,
      "metadata": {
        "id": "vHVDxIuL4QHh"
      },
      "outputs": [],
      "source": [
        "df = pd.read_csv('../data/titanic-train.csv')"
      ]
    },
    {
      "cell_type": "code",
      "execution_count": null,
      "metadata": {
        "id": "2FTYHn9g4QHi"
      },
      "outputs": [],
      "source": [
        "type(df)"
      ]
    },
    {
      "cell_type": "code",
      "execution_count": null,
      "metadata": {
        "id": "Ly_NxPeO4QHi"
      },
      "outputs": [],
      "source": [
        "df.head()"
      ]
    },
    {
      "cell_type": "code",
      "execution_count": null,
      "metadata": {
        "id": "EQBGSVy24QHi"
      },
      "outputs": [],
      "source": [
        "df.info()"
      ]
    },
    {
      "cell_type": "code",
      "execution_count": null,
      "metadata": {
        "id": "jI0u71-O4QHi"
      },
      "outputs": [],
      "source": [
        "df.describe()"
      ]
    },
    {
      "cell_type": "markdown",
      "metadata": {
        "id": "oyQ_RIb34QHj"
      },
      "source": [
        "### Indexing"
      ]
    },
    {
      "cell_type": "code",
      "execution_count": null,
      "metadata": {
        "id": "49yciZi94QHj"
      },
      "outputs": [],
      "source": [
        "df.iloc[3]"
      ]
    },
    {
      "cell_type": "code",
      "execution_count": null,
      "metadata": {
        "id": "g0b3beO94QHj"
      },
      "outputs": [],
      "source": [
        "df.loc[0:4,'Ticket']"
      ]
    },
    {
      "cell_type": "code",
      "execution_count": null,
      "metadata": {
        "id": "wVFQsRn84QHj"
      },
      "outputs": [],
      "source": [
        "df['Ticket'].head()"
      ]
    },
    {
      "cell_type": "code",
      "execution_count": null,
      "metadata": {
        "id": "M7AKEXq04QHj"
      },
      "outputs": [],
      "source": [
        "df[['Embarked', 'Ticket']].head()"
      ]
    },
    {
      "cell_type": "markdown",
      "metadata": {
        "id": "k-IPgQi24QHj"
      },
      "source": [
        "### Selections"
      ]
    },
    {
      "cell_type": "code",
      "execution_count": null,
      "metadata": {
        "id": "ncYoCLKP4QHk"
      },
      "outputs": [],
      "source": [
        "df[df['Age'] > 70]"
      ]
    },
    {
      "cell_type": "code",
      "execution_count": null,
      "metadata": {
        "id": "Po760p9o4QHk"
      },
      "outputs": [],
      "source": [
        "df['Age'] > 70"
      ]
    },
    {
      "cell_type": "code",
      "execution_count": null,
      "metadata": {
        "id": "NozHnsC04QHk"
      },
      "outputs": [],
      "source": [
        "df.query(\"Age > 70\")"
      ]
    },
    {
      "cell_type": "code",
      "execution_count": null,
      "metadata": {
        "id": "yFzxfRht4QHk"
      },
      "outputs": [],
      "source": [
        "df[(df['Age'] == 11) & (df['SibSp'] == 5)]"
      ]
    },
    {
      "cell_type": "code",
      "execution_count": null,
      "metadata": {
        "id": "TLqazkaO4QHk"
      },
      "outputs": [],
      "source": [
        "df[(df.Age == 11) | (df.SibSp == 5)]"
      ]
    },
    {
      "cell_type": "code",
      "execution_count": null,
      "metadata": {
        "id": "8UmRMuQz4QHk"
      },
      "outputs": [],
      "source": [
        "df.query('(Age == 11) | (SibSp == 5)')"
      ]
    },
    {
      "cell_type": "markdown",
      "metadata": {
        "id": "oMBvVZLv4QHl"
      },
      "source": [
        "### Unique Values"
      ]
    },
    {
      "cell_type": "code",
      "execution_count": null,
      "metadata": {
        "id": "RRofj-dx4QHl"
      },
      "outputs": [],
      "source": [
        "df['Embarked'].unique()"
      ]
    },
    {
      "cell_type": "markdown",
      "metadata": {
        "id": "FlWG0Rip4QHl"
      },
      "source": [
        "### Sorting"
      ]
    },
    {
      "cell_type": "code",
      "execution_count": null,
      "metadata": {
        "id": "dmD4s2Er4QHl"
      },
      "outputs": [],
      "source": [
        "df.sort_values('Age', ascending = False).head()"
      ]
    },
    {
      "cell_type": "markdown",
      "metadata": {
        "id": "AEaypAYR4QHl"
      },
      "source": [
        "### Aggregations"
      ]
    },
    {
      "cell_type": "code",
      "execution_count": null,
      "metadata": {
        "id": "w4KqnkPi4QHl"
      },
      "outputs": [],
      "source": [
        "df['Survived'].value_counts()"
      ]
    },
    {
      "cell_type": "code",
      "execution_count": null,
      "metadata": {
        "id": "ye-AyxyZ4QHl"
      },
      "outputs": [],
      "source": [
        "df['Pclass'].value_counts()"
      ]
    },
    {
      "cell_type": "code",
      "execution_count": null,
      "metadata": {
        "id": "PdOgMl0E4QHm"
      },
      "outputs": [],
      "source": [
        "df.groupby(['Pclass', 'Survived'])['PassengerId'].count()"
      ]
    },
    {
      "cell_type": "code",
      "execution_count": null,
      "metadata": {
        "id": "Ibhxxct_4QHm"
      },
      "outputs": [],
      "source": [
        "df['Age'].min()"
      ]
    },
    {
      "cell_type": "code",
      "execution_count": null,
      "metadata": {
        "id": "HpsOw3fK4QHm"
      },
      "outputs": [],
      "source": [
        "df['Age'].max()"
      ]
    },
    {
      "cell_type": "code",
      "execution_count": null,
      "metadata": {
        "id": "mPGmvBBK4QHm"
      },
      "outputs": [],
      "source": [
        "df['Age'].mean()"
      ]
    },
    {
      "cell_type": "code",
      "execution_count": null,
      "metadata": {
        "id": "nbIMo5qp4QHm"
      },
      "outputs": [],
      "source": [
        "df['Age'].median()"
      ]
    },
    {
      "cell_type": "code",
      "execution_count": null,
      "metadata": {
        "id": "AcWj30HT4QHn"
      },
      "outputs": [],
      "source": [
        "mean_age_by_survived = df.groupby('Survived')['Age'].mean()\n",
        "mean_age_by_survived"
      ]
    },
    {
      "cell_type": "code",
      "execution_count": null,
      "metadata": {
        "id": "y73s3vYI4QHo"
      },
      "outputs": [],
      "source": [
        "std_age_by_survived = df.groupby('Survived')['Age'].std()\n",
        "std_age_by_survived"
      ]
    },
    {
      "cell_type": "markdown",
      "metadata": {
        "id": "4QiNyd4C4QHo"
      },
      "source": [
        "### Merge"
      ]
    },
    {
      "cell_type": "code",
      "execution_count": null,
      "metadata": {
        "id": "Exd8jwhR4QHo"
      },
      "outputs": [],
      "source": [
        "df1 = mean_age_by_survived.round(0).reset_index()\n",
        "df2 = std_age_by_survived.round(0).reset_index()"
      ]
    },
    {
      "cell_type": "code",
      "execution_count": null,
      "metadata": {
        "id": "a3ghAn0a4QHo"
      },
      "outputs": [],
      "source": [
        "df1"
      ]
    },
    {
      "cell_type": "code",
      "execution_count": null,
      "metadata": {
        "id": "4NQy2MaD4QHo"
      },
      "outputs": [],
      "source": [
        "df2"
      ]
    },
    {
      "cell_type": "code",
      "execution_count": null,
      "metadata": {
        "id": "qNdjvKDR4QHo"
      },
      "outputs": [],
      "source": [
        "df3 = pd.merge(df1, df2, on='Survived')"
      ]
    },
    {
      "cell_type": "code",
      "execution_count": null,
      "metadata": {
        "id": "4cIisZnq4QHp"
      },
      "outputs": [],
      "source": [
        "df3"
      ]
    },
    {
      "cell_type": "code",
      "execution_count": null,
      "metadata": {
        "id": "oAwlhfwa4QHq"
      },
      "outputs": [],
      "source": [
        "df3.columns = ['Survived', 'Average Age', 'Age Standard Deviation']"
      ]
    },
    {
      "cell_type": "code",
      "execution_count": null,
      "metadata": {
        "id": "VaMtb5Ff4QHq"
      },
      "outputs": [],
      "source": [
        "df3"
      ]
    },
    {
      "cell_type": "markdown",
      "metadata": {
        "id": "41pFaQky4QHq"
      },
      "source": [
        "### Pivot Tables"
      ]
    },
    {
      "cell_type": "code",
      "execution_count": null,
      "metadata": {
        "id": "X-UaY2924QHq"
      },
      "outputs": [],
      "source": [
        "df.pivot_table(index='Pclass',\n",
        "               columns='Survived',\n",
        "               values='PassengerId',\n",
        "               aggfunc='count')"
      ]
    },
    {
      "cell_type": "markdown",
      "metadata": {
        "id": "Rr82jh4D4QHq"
      },
      "source": [
        "### Correlations"
      ]
    },
    {
      "cell_type": "code",
      "execution_count": null,
      "metadata": {
        "id": "VHT6BHfC4QHq"
      },
      "outputs": [],
      "source": [
        "df['IsFemale'] = df['Sex'] == 'female'"
      ]
    },
    {
      "cell_type": "code",
      "execution_count": null,
      "metadata": {
        "id": "r23cky6p4QHq"
      },
      "outputs": [],
      "source": [
        "correlated_with_survived = df.corr()['Survived'].sort_values()\n",
        "correlated_with_survived"
      ]
    },
    {
      "cell_type": "code",
      "execution_count": null,
      "metadata": {
        "id": "KmPHd5eo4QHr"
      },
      "outputs": [],
      "source": [
        "correlated_with_survived.iloc[:-1].plot(kind='bar',\n",
        "                                        title='Titanic Passengers: correlation with survival');"
      ]
    },
    {
      "cell_type": "markdown",
      "metadata": {
        "id": "e854kadp4QHr"
      },
      "source": [
        "# Visual Data Exploration with Matplotlib"
      ]
    },
    {
      "cell_type": "code",
      "execution_count": null,
      "metadata": {
        "id": "VpQ6LCrj4QHr"
      },
      "outputs": [],
      "source": [
        "data1 = np.random.normal(0, 0.1, 1000)\n",
        "data2 = np.random.normal(1, 0.4, 1000) + np.linspace(0, 1, 1000)\n",
        "data3 = 2 + np.random.random(1000) * np.linspace(1, 5, 1000)\n",
        "data4 = np.random.normal(3, 0.2, 1000) + 0.3 * np.sin(np.linspace(0, 20, 1000))"
      ]
    },
    {
      "cell_type": "code",
      "execution_count": null,
      "metadata": {
        "id": "Q8Ml4TXM4QHr"
      },
      "outputs": [],
      "source": [
        "data = np.vstack([data1, data2, data3, data4]).transpose()"
      ]
    },
    {
      "cell_type": "code",
      "execution_count": null,
      "metadata": {
        "id": "6eKgnSVe4QHr"
      },
      "outputs": [],
      "source": [
        "df = pd.DataFrame(data, columns=['data1', 'data2', 'data3', 'data4'])\n",
        "df.head()"
      ]
    },
    {
      "cell_type": "markdown",
      "metadata": {
        "id": "vzTqcfET4QHr"
      },
      "source": [
        "### Line Plot"
      ]
    },
    {
      "cell_type": "code",
      "execution_count": null,
      "metadata": {
        "id": "fGVEB1wc4QHr"
      },
      "outputs": [],
      "source": [
        "df.plot(title='Line plot');"
      ]
    },
    {
      "cell_type": "code",
      "execution_count": null,
      "metadata": {
        "id": "yUXDESSE4QHr"
      },
      "outputs": [],
      "source": [
        "plt.plot(df)\n",
        "plt.title('Line plot')\n",
        "plt.legend(['data1', 'data2', 'data3', 'data4']);"
      ]
    },
    {
      "cell_type": "markdown",
      "metadata": {
        "id": "vqZ-U9ft4QHs"
      },
      "source": [
        "### Scatter Plot"
      ]
    },
    {
      "cell_type": "code",
      "execution_count": null,
      "metadata": {
        "id": "OWdxdaoK4QHs"
      },
      "outputs": [],
      "source": [
        "df.plot(style='.');"
      ]
    },
    {
      "cell_type": "code",
      "execution_count": null,
      "metadata": {
        "id": "7-zUm8i74QHs"
      },
      "outputs": [],
      "source": [
        "_ = df.plot(kind='scatter', x='data1', y='data2',\n",
        "            xlim=(-1.5, 1.5), ylim=(0, 3))"
      ]
    },
    {
      "cell_type": "markdown",
      "metadata": {
        "id": "fkr2L_9I4QHs"
      },
      "source": [
        "### Histograms"
      ]
    },
    {
      "cell_type": "code",
      "execution_count": null,
      "metadata": {
        "id": "46a5tGWK4QHs"
      },
      "outputs": [],
      "source": [
        "df.plot(kind='hist',\n",
        "        bins=50,\n",
        "        title='Histogram',\n",
        "        alpha=0.6);"
      ]
    },
    {
      "cell_type": "markdown",
      "metadata": {
        "id": "qsrohp5W4QHs"
      },
      "source": [
        "### Cumulative distribution"
      ]
    },
    {
      "cell_type": "code",
      "execution_count": null,
      "metadata": {
        "id": "zNCgIXWU4QHs"
      },
      "outputs": [],
      "source": [
        "df.plot(kind='hist',\n",
        "        bins=100,\n",
        "        title='Cumulative distributions',\n",
        "        density=True,\n",
        "        cumulative=True,\n",
        "        alpha=0.4);"
      ]
    },
    {
      "cell_type": "markdown",
      "metadata": {
        "id": "j0xZdhKM4QHt"
      },
      "source": [
        "### Box Plot"
      ]
    },
    {
      "cell_type": "code",
      "execution_count": null,
      "metadata": {
        "id": "a86_cMo74QHt"
      },
      "outputs": [],
      "source": [
        "df.plot(kind='box',\n",
        "        title='Boxplot');"
      ]
    },
    {
      "cell_type": "markdown",
      "metadata": {
        "id": "IAjJymlh4QHt"
      },
      "source": [
        "### Subplots"
      ]
    },
    {
      "cell_type": "code",
      "execution_count": null,
      "metadata": {
        "id": "sVV--RLZ4QHt"
      },
      "outputs": [],
      "source": [
        "fig, ax = plt.subplots(2, 2, figsize=(5, 5))\n",
        "\n",
        "df.plot(ax=ax[0][0],\n",
        "        title='Line plot')\n",
        "\n",
        "df.plot(ax=ax[0][1],\n",
        "        style='o',\n",
        "        title='Scatter plot')\n",
        "\n",
        "df.plot(ax=ax[1][0],\n",
        "        kind='hist',\n",
        "        bins=50,\n",
        "        title='Histogram')\n",
        "\n",
        "df.plot(ax=ax[1][1],\n",
        "        kind='box',\n",
        "        title='Boxplot')\n",
        "\n",
        "plt.tight_layout()"
      ]
    },
    {
      "cell_type": "markdown",
      "metadata": {
        "id": "8dgmMvr44QHt"
      },
      "source": [
        "### Pie charts"
      ]
    },
    {
      "cell_type": "code",
      "execution_count": null,
      "metadata": {
        "id": "Z4kKkm4v4QHt"
      },
      "outputs": [],
      "source": [
        "gt01 = df['data1'] > 0.1\n",
        "piecounts = gt01.value_counts()\n",
        "piecounts"
      ]
    },
    {
      "cell_type": "code",
      "execution_count": null,
      "metadata": {
        "id": "hNi23XkL4QHt"
      },
      "outputs": [],
      "source": [
        "piecounts.plot(kind='pie',\n",
        "               figsize=(5, 5),\n",
        "               explode=[0, 0.15],\n",
        "               labels=['<= 0.1', '> 0.1'],\n",
        "               autopct='%1.1f%%',\n",
        "               shadow=True,\n",
        "               startangle=90,\n",
        "               fontsize=16);"
      ]
    },
    {
      "cell_type": "markdown",
      "metadata": {
        "id": "wnb5vwcN4QHu"
      },
      "source": [
        "### Hexbin plot"
      ]
    },
    {
      "cell_type": "code",
      "execution_count": null,
      "metadata": {
        "id": "5DpH7XHb4QHu"
      },
      "outputs": [],
      "source": [
        "data = np.vstack([np.random.normal((0, 0), 2, size=(1000, 2)),\n",
        "                  np.random.normal((9, 9), 3, size=(2000, 2))])\n",
        "df = pd.DataFrame(data, columns=['x', 'y'])"
      ]
    },
    {
      "cell_type": "code",
      "execution_count": null,
      "metadata": {
        "id": "mYJplGVo4QHu"
      },
      "outputs": [],
      "source": [
        "df.head()"
      ]
    },
    {
      "cell_type": "code",
      "execution_count": null,
      "metadata": {
        "id": "RlhNXlF84QHu"
      },
      "outputs": [],
      "source": [
        "df.plot();"
      ]
    },
    {
      "cell_type": "code",
      "execution_count": null,
      "metadata": {
        "id": "jtHNV3PA4QHu"
      },
      "outputs": [],
      "source": [
        "df.plot(kind='kde');"
      ]
    },
    {
      "cell_type": "code",
      "execution_count": null,
      "metadata": {
        "id": "MrNboYEo4QHu"
      },
      "outputs": [],
      "source": [
        "df.plot(kind='hexbin', x='x', y='y', bins=100, cmap='rainbow');"
      ]
    },
    {
      "cell_type": "markdown",
      "metadata": {
        "id": "DlGk8lGS4QHv"
      },
      "source": [
        "# Unstructured data"
      ]
    },
    {
      "cell_type": "markdown",
      "metadata": {
        "id": "Bf7RukIN4QHv"
      },
      "source": [
        "### Images"
      ]
    },
    {
      "cell_type": "code",
      "execution_count": null,
      "metadata": {
        "id": "t7UGC3UZ4QHv"
      },
      "outputs": [],
      "source": [
        "from PIL import Image"
      ]
    },
    {
      "cell_type": "code",
      "execution_count": null,
      "metadata": {
        "id": "5bdBMr5y4QHv"
      },
      "outputs": [],
      "source": [
        "img = Image.open('../data/iss.jpg')\n",
        "img"
      ]
    },
    {
      "cell_type": "code",
      "execution_count": null,
      "metadata": {
        "id": "O9r1qLrr4QHv"
      },
      "outputs": [],
      "source": [
        "type(img)"
      ]
    },
    {
      "cell_type": "code",
      "execution_count": null,
      "metadata": {
        "id": "absNt_nU4QHw"
      },
      "outputs": [],
      "source": [
        "imgarray = np.asarray(img)"
      ]
    },
    {
      "cell_type": "code",
      "execution_count": null,
      "metadata": {
        "id": "X6g23MF24QHw"
      },
      "outputs": [],
      "source": [
        "type(imgarray)"
      ]
    },
    {
      "cell_type": "code",
      "execution_count": null,
      "metadata": {
        "id": "TsziQ9z34QHw"
      },
      "outputs": [],
      "source": [
        "imgarray.shape"
      ]
    },
    {
      "cell_type": "code",
      "execution_count": null,
      "metadata": {
        "id": "G9S-Z61H4QHw"
      },
      "outputs": [],
      "source": [
        "imgarray.ravel().shape"
      ]
    },
    {
      "cell_type": "code",
      "execution_count": null,
      "metadata": {
        "id": "Mt_C9-zZ4QHw"
      },
      "outputs": [],
      "source": [
        "435 * 640 * 3"
      ]
    },
    {
      "cell_type": "markdown",
      "metadata": {
        "id": "Iuc1TzIc4QHw"
      },
      "source": [
        "### Sound"
      ]
    },
    {
      "cell_type": "code",
      "execution_count": null,
      "metadata": {
        "id": "ibG9MhT74QHw"
      },
      "outputs": [],
      "source": [
        "from scipy.io import wavfile"
      ]
    },
    {
      "cell_type": "code",
      "execution_count": null,
      "metadata": {
        "id": "sD06uqMK4QHx"
      },
      "outputs": [],
      "source": [
        "rate, snd = wavfile.read(filename='../data/sms.wav')"
      ]
    },
    {
      "cell_type": "code",
      "execution_count": null,
      "metadata": {
        "id": "LhZR1SkG4QHx"
      },
      "outputs": [],
      "source": [
        "from IPython.display import Audio"
      ]
    },
    {
      "cell_type": "code",
      "execution_count": null,
      "metadata": {
        "id": "IHKGBJ1r4QHx"
      },
      "outputs": [],
      "source": [
        "Audio(data=snd, rate=rate)"
      ]
    },
    {
      "cell_type": "code",
      "execution_count": null,
      "metadata": {
        "id": "Pb_noRwd4QHx"
      },
      "outputs": [],
      "source": [
        "len(snd)"
      ]
    },
    {
      "cell_type": "code",
      "execution_count": null,
      "metadata": {
        "id": "P8RdhDoH4QHx"
      },
      "outputs": [],
      "source": [
        "snd"
      ]
    },
    {
      "cell_type": "code",
      "execution_count": null,
      "metadata": {
        "id": "hemCs6vz4QHx"
      },
      "outputs": [],
      "source": [
        "plt.plot(snd)"
      ]
    },
    {
      "cell_type": "code",
      "execution_count": null,
      "metadata": {
        "id": "M4CsbPvF4QHx"
      },
      "outputs": [],
      "source": [
        "_ = plt.specgram(snd, NFFT=1024, Fs=44100)\n",
        "plt.ylabel('Frequency (Hz)')\n",
        "plt.xlabel('Time (s)')"
      ]
    },
    {
      "cell_type": "markdown",
      "metadata": {
        "id": "2YsQJW084QHx"
      },
      "source": [
        "# Data Exploration Exercises"
      ]
    },
    {
      "cell_type": "markdown",
      "metadata": {
        "id": "AHo5TENt4QHx"
      },
      "source": [
        "## Exercise 1\n",
        "- load the dataset: `../data/international-airline-passengers.csv`\n",
        "- inspect it using the `.info()` and `.head()` commands\n",
        "- use the function [`pd.to_datetime()`](http://pandas.pydata.org/pandas-docs/version/0.20/generated/pandas.to_datetime.html) to change the column type of 'Month' to a datatime type\n",
        "- set the index of df to be a datetime index using the column 'Month' and the `df.set_index()` method\n",
        "- choose the appropriate plot and display the data\n",
        "- choose appropriate scale\n",
        "- label the axes"
      ]
    },
    {
      "cell_type": "code",
      "execution_count": null,
      "metadata": {
        "id": "JxWaOfhc4QHy"
      },
      "outputs": [],
      "source": []
    },
    {
      "cell_type": "markdown",
      "metadata": {
        "id": "GislveMn4QHy"
      },
      "source": [
        "## Exercise 2\n",
        "- load the dataset: `../data/weight-height.csv`\n",
        "- inspect it\n",
        "- plot it using a scatter plot with Weight as a function of Height\n",
        "- plot the male and female populations with 2 different colors on a new scatter plot\n",
        "- remember to label the axes"
      ]
    },
    {
      "cell_type": "code",
      "execution_count": null,
      "metadata": {
        "id": "O1dV60J74QHy"
      },
      "outputs": [],
      "source": []
    },
    {
      "cell_type": "markdown",
      "metadata": {
        "id": "FsDciSUW4QHy"
      },
      "source": [
        "## Exercise 3\n",
        "- plot the histogram of the heights for males and for females on the same plot\n",
        "- use alpha to control transparency in the plot comand\n",
        "- plot a vertical line at the mean of each population using `plt.axvline()`"
      ]
    },
    {
      "cell_type": "code",
      "execution_count": null,
      "metadata": {
        "id": "0LeYO1XU4QHy"
      },
      "outputs": [],
      "source": []
    },
    {
      "cell_type": "markdown",
      "metadata": {
        "id": "TvzTofK54QHy"
      },
      "source": [
        "## Exercise 4\n",
        "- plot the weights of the males and females using a box plot\n",
        "- which one is easier to read?\n",
        "- (remember to put in titles, axes and legends)"
      ]
    },
    {
      "cell_type": "code",
      "execution_count": null,
      "metadata": {
        "id": "hN2vfpmP4QHy"
      },
      "outputs": [],
      "source": []
    },
    {
      "cell_type": "markdown",
      "metadata": {
        "id": "yNSK1FCk4QHy"
      },
      "source": [
        "## Exercise 5\n",
        "- load the dataset: `../data/titanic-train.csv`\n",
        "- learn about scattermatrix here: http://pandas.pydata.org/pandas-docs/stable/visualization.html\n",
        "- display the data using a scattermatrix"
      ]
    },
    {
      "cell_type": "code",
      "execution_count": null,
      "metadata": {
        "id": "X6DvDL7D4QHy"
      },
      "outputs": [],
      "source": []
    }
  ],
  "metadata": {
    "kernelspec": {
      "display_name": "Python 3",
      "language": "python",
      "name": "python3"
    },
    "language_info": {
      "codemirror_mode": {
        "name": "ipython",
        "version": 3
      },
      "file_extension": ".py",
      "mimetype": "text/x-python",
      "name": "python",
      "nbconvert_exporter": "python",
      "pygments_lexer": "ipython3",
      "version": "3.7.10"
    },
    "colab": {
      "provenance": [],
      "include_colab_link": true
    }
  },
  "nbformat": 4,
  "nbformat_minor": 0
}